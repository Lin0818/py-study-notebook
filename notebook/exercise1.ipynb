{
 "cells": [
  {
   "cell_type": "markdown",
   "metadata": {},
   "source": [
    "1. array.array 练习  \n",
    "2. functools 其中的装饰代码学习(wrap, lru_cache, partial) \n",
    "3. format 各种format展示  \n",
    "4. collections 练习(namedtuple)\n",
    "5. list, tuple, dict, set 练习\n",
    "6. lambda\n",
    "7. reduce, sum, map, filter, any, all etc... built-in function\n",
    "8. operator\n",
    "9. itertools\n"
   ]
  },
  {
   "cell_type": "markdown",
   "metadata": {},
   "source": [
    "## hasattr, getattr, setattr, \\_\\_getattr\\_\\_"
   ]
  },
  {
   "cell_type": "code",
   "execution_count": 2,
   "metadata": {},
   "outputs": [
    {
     "data": {
      "text/plain": [
       "True"
      ]
     },
     "execution_count": 2,
     "metadata": {},
     "output_type": "execute_result"
    }
   ],
   "source": [
    "class test():\n",
    "    name = 'jetlin'\n",
    "    \n",
    "    def run(self):\n",
    "        return 'Hello World.'\n",
    "    \n",
    "t = test()\n",
    "hasattr(t, \"name\")  #判断一个对象里面是否有name属性或者方法"
   ]
  },
  {
   "cell_type": "code",
   "execution_count": 3,
   "metadata": {},
   "outputs": [
    {
     "data": {
      "text/plain": [
       "True"
      ]
     },
     "execution_count": 3,
     "metadata": {},
     "output_type": "execute_result"
    }
   ],
   "source": [
    "hasattr(t, \"run\")"
   ]
  },
  {
   "cell_type": "code",
   "execution_count": 4,
   "metadata": {},
   "outputs": [
    {
     "data": {
      "text/plain": [
       "False"
      ]
     },
     "execution_count": 4,
     "metadata": {},
     "output_type": "execute_result"
    }
   ],
   "source": [
    "hasattr(t, \"age\")"
   ]
  },
  {
   "cell_type": "code",
   "execution_count": 5,
   "metadata": {},
   "outputs": [
    {
     "data": {
      "text/plain": [
       "'jetlin'"
      ]
     },
     "execution_count": 5,
     "metadata": {},
     "output_type": "execute_result"
    }
   ],
   "source": [
    "getattr(t, \"name\") "
   ]
  },
  {
   "cell_type": "code",
   "execution_count": 6,
   "metadata": {},
   "outputs": [
    {
     "data": {
      "text/plain": [
       "<bound method test.run of <__main__.test object at 0x110314128>>"
      ]
     },
     "execution_count": 6,
     "metadata": {},
     "output_type": "execute_result"
    }
   ],
   "source": [
    "getattr(t, \"run\")"
   ]
  },
  {
   "cell_type": "code",
   "execution_count": 7,
   "metadata": {},
   "outputs": [
    {
     "data": {
      "text/plain": [
       "'Hello World.'"
      ]
     },
     "execution_count": 7,
     "metadata": {},
     "output_type": "execute_result"
    }
   ],
   "source": [
    "getattr(t, \"run\")()"
   ]
  },
  {
   "cell_type": "code",
   "execution_count": 8,
   "metadata": {},
   "outputs": [
    {
     "ename": "AttributeError",
     "evalue": "'test' object has no attribute 'age'",
     "output_type": "error",
     "traceback": [
      "\u001b[0;31m---------------------------------------------------------------------------\u001b[0m",
      "\u001b[0;31mAttributeError\u001b[0m                            Traceback (most recent call last)",
      "\u001b[0;32m<ipython-input-8-a0866cb37b6b>\u001b[0m in \u001b[0;36m<module>\u001b[0;34m\u001b[0m\n\u001b[0;32m----> 1\u001b[0;31m \u001b[0mgetattr\u001b[0m\u001b[0;34m(\u001b[0m\u001b[0mt\u001b[0m\u001b[0;34m,\u001b[0m \u001b[0;34m\"age\"\u001b[0m\u001b[0;34m)\u001b[0m\u001b[0;34m\u001b[0m\u001b[0;34m\u001b[0m\u001b[0m\n\u001b[0m",
      "\u001b[0;31mAttributeError\u001b[0m: 'test' object has no attribute 'age'"
     ]
    }
   ],
   "source": [
    "getattr(t, \"age\")"
   ]
  },
  {
   "cell_type": "code",
   "execution_count": 9,
   "metadata": {},
   "outputs": [],
   "source": [
    "setattr(t, \"age\", 18)"
   ]
  },
  {
   "cell_type": "code",
   "execution_count": 10,
   "metadata": {},
   "outputs": [
    {
     "data": {
      "text/plain": [
       "18"
      ]
     },
     "execution_count": 10,
     "metadata": {},
     "output_type": "execute_result"
    }
   ],
   "source": [
    "t.age"
   ]
  },
  {
   "cell_type": "code",
   "execution_count": 11,
   "metadata": {},
   "outputs": [
    {
     "data": {
      "text/plain": [
       "True"
      ]
     },
     "execution_count": 11,
     "metadata": {},
     "output_type": "execute_result"
    }
   ],
   "source": [
    "hasattr(t, \"age\")"
   ]
  },
  {
   "cell_type": "code",
   "execution_count": 22,
   "metadata": {},
   "outputs": [
    {
     "name": "stdout",
     "output_type": "stream",
     "text": [
      "{'a': 1}\n",
      "1\n",
      "True\n"
     ]
    }
   ],
   "source": [
    "# 访问属性一样，访问dict中的键值对\n",
    "## __getattr__\n",
    "class ObjectDict(dict):\n",
    "    def __init__(self, *args, **kwargs):\n",
    "        #super(ObjectDict, self).__init__(*args, **kwargs)  #类的继承 第一种写法\n",
    "        dict.__init__(self, *args, **kwargs)  #类的继承 第二种写法\n",
    "        \n",
    "    def __getattr__(self, name):\n",
    "        value = self[name]\n",
    "        if isinstance(value, dict):\n",
    "            value = ObjectDict(value)\n",
    "        return value\n",
    "\n",
    "if __name__ == '__main__':\n",
    "    od = ObjectDict(asf={'a': 1}, d=True)\n",
    "    print(od.asf)\n",
    "    print(od.asf.a)\n",
    "    print(od.d)"
   ]
  },
  {
   "cell_type": "code",
   "execution_count": 25,
   "metadata": {},
   "outputs": [
    {
     "name": "stdout",
     "output_type": "stream",
     "text": [
      "before {}\n",
      "after {'lazy_loaded_attr': 'lazy_loaded_attr'}\n"
     ]
    }
   ],
   "source": [
    "# 访问之后，添加一个动态属性\n",
    "class WidgetShowLazyLoad(object):\n",
    "    def fetch_complex_attr(self, attrname):\n",
    "        return attrname\n",
    "    \n",
    "    def __getattr__(self, name):\n",
    "        if name not in self.__dict__:\n",
    "            self.__dict__[name] = self.fetch_complex_attr(name)\n",
    "        return self.__dict__[name]\n",
    "\n",
    "if __name__ == '__main__':\n",
    "    w = WidgetShowLazyLoad()\n",
    "    print('before', w.__dict__)\n",
    "    w.lazy_loaded_attr\n",
    "    print('after', w.__dict__)"
   ]
  },
  {
   "cell_type": "code",
   "execution_count": 48,
   "metadata": {},
   "outputs": [
    {
     "name": "stdout",
     "output_type": "stream",
     "text": [
      "deal:12 - profit:95502.76 - total:215502.76\n"
     ]
    }
   ],
   "source": [
    "# 复利计算函数\n",
    "def compute(deal):\n",
    "    money = 120000\n",
    "    total = money * (1+0.05)**deal\n",
    "    profit = total - money\n",
    "    print('deal:{} - profit:{:.2f} - total:{:.2f}'.format(int(deal), profit, total))\n",
    "    \n",
    "compute(12.0)"
   ]
  },
  {
   "cell_type": "code",
   "execution_count": 53,
   "metadata": {},
   "outputs": [
    {
     "name": "stdout",
     "output_type": "stream",
     "text": [
      "<class '__main__.A'>\n"
     ]
    }
   ],
   "source": [
    "# classmethod\n",
    "class A(object):\n",
    "    \n",
    "    @classmethod\n",
    "    def func(cls):\n",
    "        print(cls)\n",
    "        \n",
    "A.func()"
   ]
  },
  {
   "cell_type": "code",
   "execution_count": null,
   "metadata": {},
   "outputs": [],
   "source": []
  }
 ],
 "metadata": {
  "kernelspec": {
   "display_name": "Python 3",
   "language": "python",
   "name": "python3"
  },
  "language_info": {
   "codemirror_mode": {
    "name": "ipython",
    "version": 3
   },
   "file_extension": ".py",
   "mimetype": "text/x-python",
   "name": "python",
   "nbconvert_exporter": "python",
   "pygments_lexer": "ipython3",
   "version": "3.7.1"
  }
 },
 "nbformat": 4,
 "nbformat_minor": 2
}
