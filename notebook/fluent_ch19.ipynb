{
 "cells": [
  {
   "cell_type": "markdown",
   "metadata": {},
   "source": [
    "## Metaprogramming\n",
    "\n",
    "Dynamic attributes and properties"
   ]
  },
  {
   "cell_type": "code",
   "execution_count": null,
   "metadata": {},
   "outputs": [],
   "source": [
    "# osconfeed.py\n",
    "from urllib.request import urlopen\n",
    "import warnings\n",
    "import os\n",
    "import json\n",
    "import ssl\n",
    "\n",
    "URL = 'http://www.oreilly.com/pub/sc/osconfeed'\n",
    "JSON = 'data/osconfeed.json'\n",
    "gcontext = ssl.SSLContext(ssl.PROTOCOL_TLSv1)\n",
    "\n",
    "def load():\n",
    "    if not os.path.exists(JSON):\n",
    "        msg = 'downloading {} to {}'.format(URL, JSON)\n",
    "        warnings.warn(msg)\n",
    "        with urlopen(URL, context=gcontext) as remote, open(JSON, 'wb') as local:\n",
    "            local.write(remote.read())\n",
    "            \n",
    "        with open(JSON) as fp:\n",
    "            return json.load(fp)\n",
    "\n",
    "feed = load()\n",
    "sorted(feed['Schedule'].keys())"
   ]
  },
  {
   "cell_type": "code",
   "execution_count": 14,
   "metadata": {},
   "outputs": [
    {
     "data": {
      "text/plain": [
       "['conferences', 'events', 'speakers', 'venues']"
      ]
     },
     "execution_count": 14,
     "metadata": {},
     "output_type": "execute_result"
    }
   ],
   "source": [
    "with open('data/osconfeed.json') as fp:\n",
    "    d = json.load(fp)\n",
    "    \n",
    "sorted(d['Schedule'].keys())"
   ]
  },
  {
   "cell_type": "code",
   "execution_count": null,
   "metadata": {},
   "outputs": [],
   "source": []
  }
 ],
 "metadata": {
  "kernelspec": {
   "display_name": "Python 3",
   "language": "python",
   "name": "python3"
  },
  "language_info": {
   "codemirror_mode": {
    "name": "ipython",
    "version": 3
   },
   "file_extension": ".py",
   "mimetype": "text/x-python",
   "name": "python",
   "nbconvert_exporter": "python",
   "pygments_lexer": "ipython3",
   "version": "3.7.1"
  }
 },
 "nbformat": 4,
 "nbformat_minor": 2
}
