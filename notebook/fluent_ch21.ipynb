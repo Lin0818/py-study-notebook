{
 "cells": [
  {
   "cell_type": "code",
   "execution_count": 1,
   "metadata": {},
   "outputs": [
    {
     "data": {
      "text/plain": [
       "<__main__.Dog at 0x10b5ebc50>"
      ]
     },
     "execution_count": 1,
     "metadata": {},
     "output_type": "execute_result"
    }
   ],
   "source": [
    "## Class metaprogramming\n",
    "\n",
    "class Dog:\n",
    "    def __init__(self, name, weight, owner):\n",
    "        self.name = name\n",
    "        self.weight = weight\n",
    "        self.owner = owner\n",
    "        \n",
    "rex = Dog('Rex', 30, 'Bob')\n",
    "rex"
   ]
  },
  {
   "cell_type": "code",
   "execution_count": 4,
   "metadata": {},
   "outputs": [
    {
     "data": {
      "text/plain": [
       "Dog(name='Rex', weight=30, owner='Bob')"
      ]
     },
     "execution_count": 4,
     "metadata": {},
     "output_type": "execute_result"
    }
   ],
   "source": [
    "## record_factory.py\n",
    "def record_factory(cls_name, field_names):\n",
    "    try:\n",
    "        field_names = field_names.replace(',', ' ').split()\n",
    "    except AttributeError:\n",
    "        pass\n",
    "    field_names = tuple(field_names)\n",
    "    \n",
    "    def __init__(self, *args, **kwargs):\n",
    "        attrs = dict(zip(self.__slots__, args))\n",
    "        attrs.update(kwargs)\n",
    "        for name, value in attrs.items():\n",
    "            setattr(self, name, value)\n",
    "            \n",
    "    def __iter__(self):\n",
    "        for name in self.__slots__:\n",
    "            yield getattr(self, name)\n",
    "            \n",
    "    def __repr__(self):\n",
    "        value = ', '.join('{}={!r}'.format(*i) for i in zip(self.__slots__, self))\n",
    "        return '{}({})'.format(self.__class__.__name__, value)\n",
    "    \n",
    "    cls_attrs = dict(__slots__ = field_names, \n",
    "                     __init__  = __init__,\n",
    "                     __iter__  = __iter__,\n",
    "                     __repr__  = __repr__)\n",
    "    \n",
    "    return type(cls_name, (object,), cls_attrs)\n",
    "\n",
    "Dog = record_factory('Dog', 'name weight owner')\n",
    "rex = Dog('Rex', 30, 'Bob')\n",
    "re"
   ]
  },
  {
   "cell_type": "code",
   "execution_count": 5,
   "metadata": {},
   "outputs": [],
   "source": [
    "name, weight, owner = rex"
   ]
  },
  {
   "cell_type": "code",
   "execution_count": null,
   "metadata": {},
   "outputs": [],
   "source": [
    "# model_v6 \n",
    "def entity(cls):\n",
    "    for key, attr in cls.__dict__.items():\n",
    "        if isinstance(attr, Validated):\n",
    "            type_name = type(attr).__name__\n",
    "            attr.storage_name = '_{}#{}'.format(type_name, key)\n",
    "    return cls\n"
   ]
  },
  {
   "cell_type": "code",
   "execution_count": 7,
   "metadata": {},
   "outputs": [],
   "source": [
    "import model_v6 as model\n",
    "\n",
    "@model.entity\n",
    "class LineItem:\n",
    "    description = model.NonBlank()\n",
    "    weight = model.Quantity()\n",
    "    price = model.Quantity()\n",
    "    \n",
    "    def __init__(self, description, weight, price):\n",
    "        self.description = description\n",
    "        self.weight = weight\n",
    "        self.price = price\n",
    "        \n",
    "    def subtotal(self):\n",
    "        return self.weight * self.price"
   ]
  },
  {
   "cell_type": "code",
   "execution_count": 10,
   "metadata": {},
   "outputs": [
    {
     "data": {
      "text/plain": [
       "['_NonBlank#description', '_Quantity#price', '_Quantity#weight']"
      ]
     },
     "execution_count": 10,
     "metadata": {},
     "output_type": "execute_result"
    }
   ],
   "source": [
    "raisins = LineItem('Golden raisins', 10, 6.95)\n",
    "dir(raisins)[:3]"
   ]
  },
  {
   "cell_type": "code",
   "execution_count": 11,
   "metadata": {},
   "outputs": [
    {
     "name": "stdout",
     "output_type": "stream",
     "text": [
      "<[100]> evalsupport module start\n",
      "<[400]> MetaAleph body\n",
      "<[700]> evalsupport module end\n"
     ]
    }
   ],
   "source": [
    "## The evaluation time exercises\n",
    "# evalsupport.py\n",
    "print('<[100]> evalsupport module start')\n",
    "\n",
    "def deco_alpha(cls):\n",
    "    print('<[200]> deco_alpha')\n",
    "    \n",
    "    def inner_1(self):\n",
    "        print('<[300]> deco_alpha:inner_1')\n",
    "        \n",
    "    cls.method_y = inner_1\n",
    "    return cls\n",
    "\n",
    "#BEGIN META_ALEPH\n",
    "class MetaAleph(type):\n",
    "    print('<[400]> MetaAleph body')\n",
    "    \n",
    "    def __init__(cls, name, bases, dic):\n",
    "        print('<[500]> MetaAleph.__init__')\n",
    "        \n",
    "        def inner_2(self):\n",
    "            print('<[600]> MetaAleph.__init__:inner_2')\n",
    "            \n",
    "        cls.method_z = inner_2\n",
    "#END META_ALEPH\n",
    "\n",
    "print('<[700]> evalsupport module end')"
   ]
  },
  {
   "cell_type": "code",
   "execution_count": 1,
   "metadata": {},
   "outputs": [
    {
     "name": "stdout",
     "output_type": "stream",
     "text": [
      "<[100]> evalsupport module start\n",
      "<[400]> MetaAleph body\n",
      "<[700]> evalsupport module end\n",
      "<[1]> evaltime module start\n",
      "<[2]> ClassOne body\n",
      "<[6]> ClassTwo body\n",
      "<[7]> ClassThree body\n",
      "<[200]> deco_alpha\n",
      "<[9]> ClassFour body\n",
      "<[6]> ClassFive body\n",
      "<[500]> MetaAleph.__init__\n",
      "<[9]> ClassSix body\n",
      "<[500]> MetaAleph.__init__\n",
      "<[11]> ClassOne tests ..............................\n",
      "<[3]> ClassOne.__init__\n",
      "<[5]> ClassOne.method_x\n",
      "<[12]> ClassThree tests ..............................\n",
      "<[10]> ClassFour.method_y\n",
      "<[13]> ClassFive tests ..............................\n",
      "<[7]> ClassFive.__init__\n",
      "<[600]> MetaAleph.__init__:inner_2\n",
      "<[14]> ClassSix tests ..............................\n",
      "<[7]> ClassFive.__init__\n",
      "<[600]> MetaAleph.__init__:inner_2\n"
     ]
    }
   ],
   "source": [
    "# evaltime.py\n",
    "from evalsupport import deco_alpha\n",
    "from evalsupport import MetaAleph\n",
    "\n",
    "print('<[1]> evaltime module start')\n",
    "\n",
    "class ClassOne():\n",
    "    print('<[2]> ClassOne body')\n",
    "    \n",
    "    def __init__(self):\n",
    "        print('<[3]> ClassOne.__init__')\n",
    "        \n",
    "    def __del__(self):\n",
    "        print('<[4]> ClassOne.__del__')\n",
    "        \n",
    "    def method_x(self):\n",
    "        print('<[5]> ClassOne.method_x')\n",
    "    \n",
    "    class ClassTwo(object):\n",
    "        print('<[6]> ClassTwo body')\n",
    "        \n",
    "@deco_alpha\n",
    "class ClassThree():\n",
    "    print('<[7]> ClassThree body')\n",
    "    \n",
    "    def method_y(self):\n",
    "        print('<[8]> ClassThree.method_y')\n",
    "\n",
    "class ClassFour(ClassThree):\n",
    "    print('<[9]> ClassFour body')\n",
    "    \n",
    "    def method_y(self):\n",
    "        print('<[10]> ClassFour.method_y')\n",
    "\n",
    "class ClassFive(metaclass=MetaAleph):\n",
    "    print('<[6]> ClassFive body')\n",
    "    \n",
    "    def __init__(self):\n",
    "        print('<[7]> ClassFive.__init__')\n",
    "        \n",
    "    def method_z(self):\n",
    "        print('<[8]> ClassFive.method_y')\n",
    "        \n",
    "class ClassSix(ClassFive):\n",
    "    print('<[9]> ClassSix body')\n",
    "    \n",
    "    def method_z(self):\n",
    "        print('<[10]> ClassSix.method_y')\n",
    "    \n",
    "if __name__ == '__main__':\n",
    "    print('<[11]> ClassOne tests', 30 * '.')\n",
    "    one = ClassOne()\n",
    "    one.method_x()\n",
    "    print('<[12]> ClassThree tests', 30 * '.')\n",
    "    four = ClassFour()\n",
    "    four.method_y()\n",
    "    print('<[13]> ClassFive tests', 30 * '.')\n",
    "    five = ClassFive()\n",
    "    five.method_z()\n",
    "    print('<[14]> ClassSix tests', 30 * '.')\n",
    "    six = ClassSix()\n",
    "    six.method_z()"
   ]
  },
  {
   "cell_type": "code",
   "execution_count": null,
   "metadata": {},
   "outputs": [],
   "source": []
  }
 ],
 "metadata": {
  "kernelspec": {
   "display_name": "Python 3",
   "language": "python",
   "name": "python3"
  },
  "language_info": {
   "codemirror_mode": {
    "name": "ipython",
    "version": 3
   },
   "file_extension": ".py",
   "mimetype": "text/x-python",
   "name": "python",
   "nbconvert_exporter": "python",
   "pygments_lexer": "ipython3",
   "version": "3.7.1"
  }
 },
 "nbformat": 4,
 "nbformat_minor": 2
}
